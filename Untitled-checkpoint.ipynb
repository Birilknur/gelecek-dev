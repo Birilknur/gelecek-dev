{
 "cells": [
  {
   "cell_type": "code",
   "execution_count": 3,
   "id": "dd44fecd-74e5-4fff-bbd1-b29f8d96b13d",
   "metadata": {},
   "outputs": [],
   "source": [
    "x=3"
   ]
  },
  {
   "cell_type": "code",
   "execution_count": 4,
   "id": "b405796c-8830-4ff4-9a98-dd45e49fc0da",
   "metadata": {},
   "outputs": [
    {
     "name": "stdout",
     "output_type": "stream",
     "text": [
      "3.0 <class 'float'>\n"
     ]
    }
   ],
   "source": [
    "x = float(x)\n",
    "print(x, type(x))"
   ]
  },
  {
   "cell_type": "code",
   "execution_count": 5,
   "id": "5c59425b-21fe-4e7c-9d8d-e59c0760acea",
   "metadata": {},
   "outputs": [
    {
     "name": "stdout",
     "output_type": "stream",
     "text": [
      "4 <class 'int'>\n"
     ]
    }
   ],
   "source": [
    "y = 4.5\n",
    "y = int(y)\n",
    "print(y, type(y))"
   ]
  },
  {
   "cell_type": "code",
   "execution_count": 6,
   "id": "4c239dc4-33b3-49a9-8a77-1e662c7e453d",
   "metadata": {},
   "outputs": [
    {
     "name": "stdout",
     "output_type": "stream",
     "text": [
      "12.0 <class 'float'>\n"
     ]
    }
   ],
   "source": [
    "a = \"12\"\n",
    "a = float(a)\n",
    "print(a, type(a))"
   ]
  },
  {
   "cell_type": "code",
   "execution_count": 7,
   "id": "0f37bbea-f2ef-4792-a227-31345f683e0e",
   "metadata": {},
   "outputs": [
    {
     "name": "stdout",
     "output_type": "stream",
     "text": [
      "46 <class 'int'>\n"
     ]
    }
   ],
   "source": [
    "b = \"46.8\"\n",
    "b = float(b)   # önce float'a çevirmemiz lazım\n",
    "b = int(b)\n",
    "print(b, type(b))"
   ]
  },
  {
   "cell_type": "code",
   "execution_count": 8,
   "id": "3d7c8825-d2c2-40fd-9c99-0b7353e7719f",
   "metadata": {},
   "outputs": [],
   "source": [
    "ayse = 12\n",
    "mehmet = 23\n",
    "ali = 45"
   ]
  },
  {
   "cell_type": "code",
   "execution_count": 9,
   "id": "267d14a1-ac2a-4042-9d2d-17ffc18ddfc9",
   "metadata": {},
   "outputs": [
    {
     "name": "stdout",
     "output_type": "stream",
     "text": [
      "Mehmet Ayşe'den büyük mü? True\n",
      "Ali Mehmet'ten küçük mü? False\n",
      "Ayşe ile Ali aynı yaşta mı? False\n"
     ]
    }
   ],
   "source": [
    "print(\"Mehmet Ayşe'den büyük mü?\", mehmet > ayse)\n",
    "print(\"Ali Mehmet'ten küçük mü?\", ali < mehmet)\n",
    "print(\"Ayşe ile Ali aynı yaşta mı?\", ayse == ali)"
   ]
  },
  {
   "cell_type": "code",
   "execution_count": 14,
   "id": "aed96f6f-4cbc-4c07-b221-84af90fdac57",
   "metadata": {},
   "outputs": [
    {
     "name": "stdout",
     "output_type": "stream",
     "text": [
      "77\n",
      "33\n",
      "1210\n",
      "2.5\n"
     ]
    }
   ],
   "source": [
    "a = 55\n",
    "b = 22\n",
    "\n",
    "print( a + b)\n",
    "print(a - b)\n",
    "print( a * b)\n",
    "print( a / b)"
   ]
  },
  {
   "cell_type": "code",
   "execution_count": 15,
   "id": "58b6a274-5e6d-432d-903d-6c23b41071ae",
   "metadata": {},
   "outputs": [
    {
     "name": "stdout",
     "output_type": "stream",
     "text": [
      "Kelimeler: ['Hi-Kod', 'Veri', 'Bilimi', 'Atölyesi']\n",
      "1. Kelime: Hi-Kod\n",
      "2. Kelime: Veri\n",
      "3. Kelime: Bilimi\n",
      "4. Kelime: Atölyesi\n",
      "Büyük harf: HI-KOD VERI BILIMI ATÖLYESI\n",
      "Küçük harf: hi-kod veri bilimi atölyesi\n"
     ]
    }
   ],
   "source": [
    "\n",
    "i = \"Hi-Kod Veri Bilimi Atölyesi\"\n",
    "\n",
    "\n",
    "kelimeler =i.split() \n",
    "print(\"Kelimeler:\", kelimeler)\n",
    "print(\"1. Kelime:\", kelimeler[0])\n",
    "print(\"2. Kelime:\", kelimeler[1])\n",
    "print(\"3. Kelime:\", kelimeler[2])\n",
    "print(\"4. Kelime:\", kelimeler[3])\n",
    "\n",
    "\n",
    "print(\"Büyük harf:\", i.upper())\n",
    "\n",
    "\n",
    "print(\"Küçük harf:\", i.lower())\n"
   ]
  },
  {
   "cell_type": "code",
   "execution_count": null,
   "id": "9f75b191-6a35-41cf-94da-a74469f5ad25",
   "metadata": {},
   "outputs": [],
   "source": []
  }
 ],
 "metadata": {
  "kernelspec": {
   "display_name": "Python 3 (ipykernel)",
   "language": "python",
   "name": "python3"
  },
  "language_info": {
   "codemirror_mode": {
    "name": "ipython",
    "version": 3
   },
   "file_extension": ".py",
   "mimetype": "text/x-python",
   "name": "python",
   "nbconvert_exporter": "python",
   "pygments_lexer": "ipython3",
   "version": "3.13.5"
  }
 },
 "nbformat": 4,
 "nbformat_minor": 5
}
