{
  "nbformat": 4,
  "nbformat_minor": 0,
  "metadata": {
    "colab": {
      "provenance": [],
      "authorship_tag": "ABX9TyMCHusSkNwgHbi8/voUJOg2",
      "include_colab_link": true
    },
    "kernelspec": {
      "name": "python3",
      "display_name": "Python 3"
    },
    "language_info": {
      "name": "python"
    }
  },
  "cells": [
    {
      "cell_type": "markdown",
      "metadata": {
        "id": "view-in-github",
        "colab_type": "text"
      },
      "source": [
        "<a href=\"https://colab.research.google.com/github/Birilknur/gelecek-dev/blob/main/Untitled1.ipynb\" target=\"_parent\"><img src=\"https://colab.research.google.com/assets/colab-badge.svg\" alt=\"Open In Colab\"/></a>"
      ]
    },
    {
      "cell_type": "code",
      "source": [
        "maas = int(input(\"Maaşınızı giriniz: \"))\n",
        "\n",
        "if maas <= 10000:\n",
        "    vergi = maas * 0.05\n",
        "elif maas <= 25000:\n",
        "    vergi = maas * 0.10\n",
        "elif maas <= 45000:\n",
        "    vergi = maas * 0.25\n",
        "else:\n",
        "    vergi = maas * 0.30\n",
        "\n",
        "print(\"Maaş:\", maas, \"TL\")\n",
        "print(\"Vergi:\", vergi, \"TL\")\n",
        "print(\"Net Maaş:\", maas - vergi, \"TL\")\n"
      ],
      "metadata": {
        "colab": {
          "base_uri": "https://localhost:8080/"
        },
        "id": "TzdKKjQ6utQe",
        "outputId": "7981e49b-ba66-424d-cbd4-05e85bfe63e2"
      },
      "execution_count": 2,
      "outputs": [
        {
          "output_type": "stream",
          "name": "stdout",
          "text": [
            "Maaşınızı giriniz: 55000\n",
            "Maaş: 55000 TL\n",
            "Vergi: 16500.0 TL\n",
            "Net Maaş: 38500.0 TL\n"
          ]
        }
      ]
    },
    {
      "cell_type": "code",
      "source": [
        "kullanici_adi = input(\"Kullanıcı adınızı giriniz: \")\n",
        "sifre = input(\"Şifrenizi oluşturunuz: \")\n",
        "\n",
        "if len(sifre) >= 6:\n",
        "    print(\"Hesabınız oluşturuldu.\")\n",
        "else:\n",
        "    print(\"Şifreniz en az 6 haneli olmalıdır.\")\n"
      ],
      "metadata": {
        "colab": {
          "base_uri": "https://localhost:8080/"
        },
        "id": "-HUI_-UuuuRi",
        "outputId": "1936973e-7ea2-4c76-8e23-7af2df2356be"
      },
      "execution_count": 3,
      "outputs": [
        {
          "output_type": "stream",
          "name": "stdout",
          "text": [
            "Kullanıcı adınızı giriniz: Buse\n",
            "Şifrenizi oluşturunuz: 123\n",
            "Şifreniz en az 6 haneli olmalıdır.\n"
          ]
        }
      ]
    },
    {
      "cell_type": "code",
      "source": [
        "kullanici_adi = input(\"Kullanıcı adınızı giriniz: \")\n",
        "\n",
        "while True:\n",
        "    sifre = input(\"Şifrenizi oluşturunuz (5-10 karakter arası): \")\n",
        "\n",
        "    if 5 <= len(sifre) <= 10:\n",
        "        print(\"Hesabınız oluşturuldu.\")\n",
        "        break\n",
        "    else:\n",
        "        print(\"Lütfen girdiğiniz şifre 5 haneden az 10 haneden fazla olmasın!\")\n"
      ],
      "metadata": {
        "colab": {
          "base_uri": "https://localhost:8080/"
        },
        "id": "OR3A_fVjvIP1",
        "outputId": "6c8c0220-5760-4876-93c1-f2c443d241c6"
      },
      "execution_count": 5,
      "outputs": [
        {
          "output_type": "stream",
          "name": "stdout",
          "text": [
            "Kullanıcı adınızı giriniz: buse\n",
            "Şifrenizi oluşturunuz (5-10 karakter arası): 12345\n",
            "Hesabınız oluşturuldu.\n"
          ]
        }
      ]
    },
    {
      "cell_type": "code",
      "source": [
        "# Önceden tanımlı kullanıcı bilgileri\n",
        "dogru_isim = \"buse\"\n",
        "dogru_sifre = \"12345\"\n",
        "\n",
        "isim = input(\"Kullanıcı adınızı giriniz: \")\n",
        "\n",
        "hak = 3  # Şifre deneme hakkı\n",
        "\n",
        "while hak > 0:\n",
        "    sifre = input(\"Şifrenizi giriniz: \")\n",
        "\n",
        "    if sifre == dogru_sifre and isim == dogru_isim:\n",
        "        print(\"Giriş yapıldı.\")\n",
        "        break\n",
        "    else:\n",
        "        hak -= 1\n",
        "        print(\"Yanlış şifre girildi!\")\n",
        "        if hak > 0:\n",
        "            print(\"Kalan hakkınız:\", hak)\n",
        "        else:\n",
        "            print(\"3 kez yanlış şifre girdiniz. Program sonlandırıldı.\")\n"
      ],
      "metadata": {
        "colab": {
          "base_uri": "https://localhost:8080/"
        },
        "id": "YG-acTbavvZ6",
        "outputId": "6db32eeb-f3a7-494c-b647-9b6ca8e4284c"
      },
      "execution_count": null,
      "outputs": [
        {
          "output_type": "stream",
          "name": "stdout",
          "text": [
            "Kullanıcı adınızı giriniz: buse\n",
            "Şifrenizi giriniz: 123\n",
            "Yanlış şifre girildi!\n",
            "Kalan hakkınız: 2\n"
          ]
        }
      ]
    }
  ]
}