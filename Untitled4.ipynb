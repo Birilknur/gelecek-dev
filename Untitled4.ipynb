{
  "nbformat": 4,
  "nbformat_minor": 0,
  "metadata": {
    "colab": {
      "provenance": [],
      "authorship_tag": "ABX9TyMwQ6t7A1nUcDWTSd++yAt5",
      "include_colab_link": true
    },
    "kernelspec": {
      "name": "python3",
      "display_name": "Python 3"
    },
    "language_info": {
      "name": "python"
    }
  },
  "cells": [
    {
      "cell_type": "markdown",
      "metadata": {
        "id": "view-in-github",
        "colab_type": "text"
      },
      "source": [
        "<a href=\"https://colab.research.google.com/github/Birilknur/gelecek-dev/blob/main/Untitled4.ipynb\" target=\"_parent\"><img src=\"https://colab.research.google.com/assets/colab-badge.svg\" alt=\"Open In Colab\"/></a>"
      ]
    },
    {
      "cell_type": "code",
      "execution_count": 1,
      "metadata": {
        "colab": {
          "base_uri": "https://localhost:8080/"
        },
        "id": "SnDRaLqq1YDy",
        "outputId": "87617194-93c3-4007-eef9-17154abb7672"
      },
      "outputs": [
        {
          "output_type": "stream",
          "name": "stdout",
          "text": [
            "1\n",
            "5\n"
          ]
        }
      ],
      "source": [
        "import numpy as np\n",
        "\n",
        "arr = np.array([1, 2, 3, 4, 5], dtype=int)\n",
        "\n",
        "print(arr.ndim)\n",
        "print(arr.size)\n"
      ]
    },
    {
      "cell_type": "code",
      "source": [
        "import numpy as np\n",
        "\n",
        "\n",
        "arr2d = np.array([[1,2,6,7],[4,3,9,5]])\n",
        "print(arr2d.ndim)\n",
        "print(arr2d.size)\n",
        "print(arr2d.shape)\n",
        "\n",
        "\n",
        "arr3d = np.array([[[7,5,14],[21,8,11]], [[8,6,20],[14,3,9]]])\n",
        "print(arr3d.ndim)\n",
        "print(arr3d.size)\n",
        "print(arr3d.shape)\n"
      ],
      "metadata": {
        "colab": {
          "base_uri": "https://localhost:8080/"
        },
        "id": "6AReaXPL13px",
        "outputId": "9575ba49-e8a1-41e7-ba91-7ad9d24c36bb"
      },
      "execution_count": 2,
      "outputs": [
        {
          "output_type": "stream",
          "name": "stdout",
          "text": [
            "2\n",
            "8\n",
            "(2, 4)\n",
            "3\n",
            "12\n",
            "(2, 2, 3)\n"
          ]
        }
      ]
    },
    {
      "cell_type": "code",
      "source": [
        "import numpy as np\n",
        "\n",
        "arr2d = np.array([[1,2,6,7],[4,3,9,5]])\n",
        "arr3d = np.array([[[7,5,14],[21,8,11]], [[8,6,20],[14,3,9]]])\n",
        "\n",
        "print(arr2d[0,1])  # 2\n",
        "print(arr2d[0,3])  # 7\n",
        "print(arr3d[1,1,2])  # 9\n",
        "print(arr3d[0,0,1])  # 5\n"
      ],
      "metadata": {
        "colab": {
          "base_uri": "https://localhost:8080/"
        },
        "id": "vdtLpE712DbW",
        "outputId": "6e8428ff-65c1-4909-91c9-48096770d360"
      },
      "execution_count": 3,
      "outputs": [
        {
          "output_type": "stream",
          "name": "stdout",
          "text": [
            "2\n",
            "7\n",
            "9\n",
            "5\n"
          ]
        }
      ]
    },
    {
      "cell_type": "code",
      "source": [
        "import numpy as np\n",
        "\n",
        "arr2d = np.array([[1,2,6,7],[4,3,9,5]])\n",
        "arr3d = np.array([[[7,5,14],[21,8,11]], [[8,6,20],[14,3,9]]])\n",
        "\n",
        "print(arr2d[0,1:3])\n",
        "print(arr2d[1,1:4])\n",
        "print(arr3d[0,1,:])\n",
        "print(arr3d[1,0,1:3])\n"
      ],
      "metadata": {
        "colab": {
          "base_uri": "https://localhost:8080/"
        },
        "id": "rIaA8Pmw3fNw",
        "outputId": "62bdcb25-a4a9-4d91-9d27-ea660e498312"
      },
      "execution_count": 4,
      "outputs": [
        {
          "output_type": "stream",
          "name": "stdout",
          "text": [
            "[2 6]\n",
            "[3 9 5]\n",
            "[21  8 11]\n",
            "[ 6 20]\n"
          ]
        }
      ]
    },
    {
      "cell_type": "code",
      "source": [
        "import numpy as np\n",
        "\n",
        "arr1 = np.zeros((5,3), dtype=int)\n",
        "arr2 = np.ones((5,3), dtype=int)\n",
        "\n",
        "satir_bazinda = np.vstack((arr1, arr2))\n",
        "print(satir_bazinda)\n",
        "\n",
        "sutun_bazinda = np.hstack((arr1, arr2))\n",
        "print(sutun_bazinda)\n"
      ],
      "metadata": {
        "id": "yzDh_jsb3sv8",
        "outputId": "aa3d3b51-a40d-4662-8da5-739748df3b0a",
        "colab": {
          "base_uri": "https://localhost:8080/"
        }
      },
      "execution_count": 5,
      "outputs": [
        {
          "output_type": "stream",
          "name": "stdout",
          "text": [
            "[[0 0 0]\n",
            " [0 0 0]\n",
            " [0 0 0]\n",
            " [0 0 0]\n",
            " [0 0 0]\n",
            " [1 1 1]\n",
            " [1 1 1]\n",
            " [1 1 1]\n",
            " [1 1 1]\n",
            " [1 1 1]]\n",
            "[[0 0 0 1 1 1]\n",
            " [0 0 0 1 1 1]\n",
            " [0 0 0 1 1 1]\n",
            " [0 0 0 1 1 1]\n",
            " [0 0 0 1 1 1]]\n"
          ]
        }
      ]
    }
  ]
}