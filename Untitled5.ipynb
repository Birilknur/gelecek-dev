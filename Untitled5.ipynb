{
  "nbformat": 4,
  "nbformat_minor": 0,
  "metadata": {
    "colab": {
      "provenance": [],
      "authorship_tag": "ABX9TyNS279+NLAiyh9r6/ggImaA",
      "include_colab_link": true
    },
    "kernelspec": {
      "name": "python3",
      "display_name": "Python 3"
    },
    "language_info": {
      "name": "python"
    }
  },
  "cells": [
    {
      "cell_type": "markdown",
      "metadata": {
        "id": "view-in-github",
        "colab_type": "text"
      },
      "source": [
        "<a href=\"https://colab.research.google.com/github/Birilknur/gelecek-dev/blob/main/Untitled5.ipynb\" target=\"_parent\"><img src=\"https://colab.research.google.com/assets/colab-badge.svg\" alt=\"Open In Colab\"/></a>"
      ]
    },
    {
      "cell_type": "code",
      "execution_count": 1,
      "metadata": {
        "id": "LrnvRxEVOwnc"
      },
      "outputs": [],
      "source": [
        "sozluk = {\"Kategori\": [\"Giyim\",\"Giyim\", \"Ayakkabı\",\"Aksesuar\",\"Ayakkabı\",\"Giyim\",\"Aksesuar\",\"Aksesuar\",\"Ayakkabı\",\"Giyim\"],\n",
        "         \"Ürün\" : [\"Kazak\",\"T-shirt\",\"Sandalet\",\"Küpe\",\"Spor Ayakkabı\",\"Pantolon\",\"Kolye\",\"Yüzük\",\"Çizme\",\"Ceket\"],\n",
        "         \"Fiyat\" : [300,180,450,50,700,400,150,80,850,900]}"
      ]
    },
    {
      "cell_type": "code",
      "source": [
        "import pandas as pd\n",
        "\n",
        "sozluk = {\n",
        "    \"Kategori\": [\"Giyim\",\"Giyim\", \"Ayakkabı\",\"Aksesuar\",\"Ayakkabı\",\"Giyim\",\"Aksesuar\",\"Aksesuar\",\"Ayakkabı\",\"Giyim\"],\n",
        "    \"Ürün\" : [\"Kazak\",\"T-shirt\",\"Sandalet\",\"Küpe\",\"Spor Ayakkabı\",\"Pantolon\",\"Kolye\",\"Yüzük\",\"Çizme\",\"Ceket\"],\n",
        "    \"Fiyat\" : [300,180,450,50,700,400,150,80,850,900]\n",
        "}\n",
        "\n",
        "df = pd.DataFrame(sozluk)\n",
        "print(df)\n"
      ],
      "metadata": {
        "colab": {
          "base_uri": "https://localhost:8080/"
        },
        "id": "Jdwxd5iHPEry",
        "outputId": "e4afd0fe-dfcb-48d6-e153-81d0a536a4e4"
      },
      "execution_count": 2,
      "outputs": [
        {
          "output_type": "stream",
          "name": "stdout",
          "text": [
            "   Kategori           Ürün  Fiyat\n",
            "0     Giyim          Kazak    300\n",
            "1     Giyim        T-shirt    180\n",
            "2  Ayakkabı       Sandalet    450\n",
            "3  Aksesuar           Küpe     50\n",
            "4  Ayakkabı  Spor Ayakkabı    700\n",
            "5     Giyim       Pantolon    400\n",
            "6  Aksesuar          Kolye    150\n",
            "7  Aksesuar          Yüzük     80\n",
            "8  Ayakkabı          Çizme    850\n",
            "9     Giyim          Ceket    900\n"
          ]
        }
      ]
    },
    {
      "cell_type": "code",
      "source": [
        "import pandas as pd\n",
        "\n",
        "sozluk = {\n",
        "    \"Kategori\": [\"Giyim\",\"Giyim\", \"Ayakkabı\",\"Aksesuar\",\"Ayakkabı\",\"Giyim\",\"Aksesuar\",\"Aksesuar\",\"Ayakkabı\",\"Giyim\"],\n",
        "    \"Ürün\" : [\"Kazak\",\"T-shirt\",\"Sandalet\",\"Küpe\",\"Spor Ayakkabı\",\"Pantolon\",\"Kolye\",\"Yüzük\",\"Çizme\",\"Ceket\"],\n",
        "    \"Fiyat\" : [300,180,450,50,700,400,150,80,850,900]\n",
        "}\n",
        "\n",
        "df = pd.DataFrame(sozluk)\n",
        "\n",
        "kategori_2 = df.loc[2, \"Kategori\"]\n",
        "urun_2 = df.loc[2, \"Ürün\"]\n",
        "veriler_4_9 = df.loc[4:9]\n",
        "urunler_1_6 = df.loc[1:6, \"Ürün\"]\n",
        "\n",
        "print(\"2.index Kategori:\", kategori_2)\n",
        "print(\"2.index Ürün:\", urun_2)\n",
        "print(\"\\n4–9 index arası veriler:\\n\", veriler_4_9)\n",
        "print(\"\\n1–6 index arası ürünler:\\n\", urunler_1_6)\n"
      ],
      "metadata": {
        "colab": {
          "base_uri": "https://localhost:8080/"
        },
        "id": "ILoxKgOtPJ7D",
        "outputId": "930fd844-1e1c-4906-852b-6466800000ed"
      },
      "execution_count": 3,
      "outputs": [
        {
          "output_type": "stream",
          "name": "stdout",
          "text": [
            "2.index Kategori: Ayakkabı\n",
            "2.index Ürün: Sandalet\n",
            "\n",
            "4–9 index arası veriler:\n",
            "    Kategori           Ürün  Fiyat\n",
            "4  Ayakkabı  Spor Ayakkabı    700\n",
            "5     Giyim       Pantolon    400\n",
            "6  Aksesuar          Kolye    150\n",
            "7  Aksesuar          Yüzük     80\n",
            "8  Ayakkabı          Çizme    850\n",
            "9     Giyim          Ceket    900\n",
            "\n",
            "1–6 index arası ürünler:\n",
            " 1          T-shirt\n",
            "2         Sandalet\n",
            "3             Küpe\n",
            "4    Spor Ayakkabı\n",
            "5         Pantolon\n",
            "6            Kolye\n",
            "Name: Ürün, dtype: object\n"
          ]
        }
      ]
    },
    {
      "cell_type": "code",
      "source": [
        "import pandas as pd\n",
        "\n",
        "sozluk = {\n",
        "    \"Kategori\": [\"Giyim\",\"Giyim\", \"Ayakkabı\",\"Aksesuar\",\"Ayakkabı\",\"Giyim\",\"Aksesuar\",\"Aksesuar\",\"Ayakkabı\",\"Giyim\"],\n",
        "    \"Ürün\" : [\"Kazak\",\"T-shirt\",\"Sandalet\",\"Küpe\",\"Spor Ayakkabı\",\"Pantolon\",\"Kolye\",\"Yüzük\",\"Çizme\",\"Ceket\"],\n",
        "    \"Fiyat\" : [300,180,450,50,700,400,150,80,850,900]\n",
        "}\n",
        "\n",
        "df = pd.DataFrame(sozluk)\n",
        "\n",
        "giyim_urunler = df[df[\"Kategori\"] == \"Giyim\"][\"Ürün\"]\n",
        "ayakkabi_urunler = df[df[\"Kategori\"] == \"Ayakkabı\"][\"Ürün\"]\n",
        "aksesuar_urunler = df[df[\"Kategori\"] == \"Aksesuar\"][\"Ürün\"]\n",
        "\n",
        "print(\"Giyim Ürünleri:\\n\", giyim_urunler)\n",
        "print(\"\\nAyakkabı Ürünleri:\\n\", ayakkabi_urunler)\n",
        "print(\"\\nAksesuar Ürünleri:\\n\", aksesuar_urunler)\n"
      ],
      "metadata": {
        "colab": {
          "base_uri": "https://localhost:8080/"
        },
        "id": "qDDgdiBLPYM8",
        "outputId": "5ba1978f-f0d6-44b3-f09f-57f9fbf1d56c"
      },
      "execution_count": 4,
      "outputs": [
        {
          "output_type": "stream",
          "name": "stdout",
          "text": [
            "Giyim Ürünleri:\n",
            " 0       Kazak\n",
            "1     T-shirt\n",
            "5    Pantolon\n",
            "9       Ceket\n",
            "Name: Ürün, dtype: object\n",
            "\n",
            "Ayakkabı Ürünleri:\n",
            " 2         Sandalet\n",
            "4    Spor Ayakkabı\n",
            "8            Çizme\n",
            "Name: Ürün, dtype: object\n",
            "\n",
            "Aksesuar Ürünleri:\n",
            " 3     Küpe\n",
            "6    Kolye\n",
            "7    Yüzük\n",
            "Name: Ürün, dtype: object\n"
          ]
        }
      ]
    },
    {
      "cell_type": "code",
      "source": [
        "import pandas as pd\n",
        "\n",
        "sozluk = {\n",
        "    \"Kategori\": [\"Giyim\",\"Giyim\", \"Ayakkabı\",\"Aksesuar\",\"Ayakkabı\",\"Giyim\",\"Aksesuar\",\"Aksesuar\",\"Ayakkabı\",\"Giyim\"],\n",
        "    \"Ürün\" : [\"Kazak\",\"T-shirt\",\"Sandalet\",\"Küpe\",\"Spor Ayakkabı\",\"Pantolon\",\"Kolye\",\"Yüzük\",\"Çizme\",\"Ceket\"],\n",
        "    \"Fiyat\" : [300,180,450,50,700,400,150,80,850,900]\n",
        "}\n",
        "\n",
        "df = pd.DataFrame(sozluk)\n",
        "\n",
        "giyim_fiyat_300 = df[(df[\"Kategori\"] == \"Giyim\") & (df[\"Fiyat\"] > 300)]\n",
        "ayakkabi_fiyat_600 = df[(df[\"Kategori\"] == \"Ayakkabı\") & (df[\"Fiyat\"] < 600)]\n",
        "aksesuar_fiyat_100 = df[(df[\"Kategori\"] == \"Aksesuar\") & (df[\"Fiyat\"] > 100)]\n",
        "\n",
        "print(\"Giyim kategorisinde fiyatı 300'den fazla olan ürünler:\\n\", giyim_fiyat_300)\n",
        "print(\"\\nAyakkabı kategorisinde fiyatı 600'den az olan ürünler:\\n\", ayakkabi_fiyat_600)\n",
        "print(\"\\nAksesuar kategorisinde fiyatı 100'den fazla olan ürünler:\\n\", aksesuar_fiyat_100)\n"
      ],
      "metadata": {
        "id": "0-B5sn8WPqiG",
        "outputId": "50471a1b-a573-4a54-fa70-0af78fff30e2",
        "colab": {
          "base_uri": "https://localhost:8080/"
        }
      },
      "execution_count": 5,
      "outputs": [
        {
          "output_type": "stream",
          "name": "stdout",
          "text": [
            "Giyim kategorisinde fiyatı 300'den fazla olan ürünler:\n",
            "   Kategori      Ürün  Fiyat\n",
            "5    Giyim  Pantolon    400\n",
            "9    Giyim     Ceket    900\n",
            "\n",
            "Ayakkabı kategorisinde fiyatı 600'den az olan ürünler:\n",
            "    Kategori      Ürün  Fiyat\n",
            "2  Ayakkabı  Sandalet    450\n",
            "\n",
            "Aksesuar kategorisinde fiyatı 100'den fazla olan ürünler:\n",
            "    Kategori   Ürün  Fiyat\n",
            "6  Aksesuar  Kolye    150\n"
          ]
        }
      ]
    }
  ]
}