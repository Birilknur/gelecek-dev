{
  "nbformat": 4,
  "nbformat_minor": 0,
  "metadata": {
    "colab": {
      "provenance": [],
      "authorship_tag": "ABX9TyOzXLZCFyVWAbeMjfxiZHMt",
      "include_colab_link": true
    },
    "kernelspec": {
      "name": "python3",
      "display_name": "Python 3"
    },
    "language_info": {
      "name": "python"
    }
  },
  "cells": [
    {
      "cell_type": "markdown",
      "metadata": {
        "id": "view-in-github",
        "colab_type": "text"
      },
      "source": [
        "<a href=\"https://colab.research.google.com/github/Birilknur/gelecek-dev/blob/main/%C3%96dev4.ipynb\" target=\"_parent\"><img src=\"https://colab.research.google.com/assets/colab-badge.svg\" alt=\"Open In Colab\"/></a>"
      ]
    },
    {
      "cell_type": "code",
      "execution_count": 1,
      "metadata": {
        "colab": {
          "base_uri": "https://localhost:8080/"
        },
        "id": "HJqr_o0LwfDf",
        "outputId": "170cca96-07ae-460e-d539-d4e42ce860b5"
      },
      "outputs": [
        {
          "output_type": "stream",
          "name": "stdout",
          "text": [
            "Yarıçapı giriniz: 42\n",
            "Dairenin alanı: 5538.96\n"
          ]
        }
      ],
      "source": [
        "def daire_alani(pi, yaricap):\n",
        "    return pi * yaricap * yaricap\n",
        "\n",
        "pi = 3.14\n",
        "yaricap = int(input(\"Yarıçapı giriniz: \"))\n",
        "\n",
        "print(\"Dairenin alanı:\", daire_alani(pi, yaricap))\n"
      ]
    },
    {
      "cell_type": "code",
      "source": [
        "def faktoriyel(sayi):\n",
        "    sonuc = 1\n",
        "    for i in range(1, sayi + 1):\n",
        "        sonuc *= i\n",
        "    return sonuc\n",
        "\n",
        "# Kullanıcıdan sayı alalım\n",
        "n = int(input(\"Bir sayı giriniz: \"))\n",
        "\n",
        "print(\"{} sayısının faktöriyeli: {}\".format(n, faktoriyel(n)))\n"
      ],
      "metadata": {
        "colab": {
          "base_uri": "https://localhost:8080/"
        },
        "id": "ydxxxNcXw1WU",
        "outputId": "3afb9672-e9a1-4900-a2ab-47f4cebef244"
      },
      "execution_count": 2,
      "outputs": [
        {
          "output_type": "stream",
          "name": "stdout",
          "text": [
            "Bir sayı giriniz: 23\n",
            "23 sayısının faktöriyeli: 25852016738884976640000\n"
          ]
        }
      ]
    },
    {
      "cell_type": "code",
      "source": [
        "def yas_hesapla(dogum_yili):\n",
        "    bugun = 2025\n",
        "    return bugun - dogum_yili\n",
        "\n",
        "yil = int(input(\"Doğum yılınızı giriniz: \"))\n",
        "\n",
        "print(\"Yaşınız:\", yas_hesapla(yil))\n"
      ],
      "metadata": {
        "colab": {
          "base_uri": "https://localhost:8080/"
        },
        "id": "YSSJGzp3xE1G",
        "outputId": "72990401-9395-48df-818a-11a6bc3e598b"
      },
      "execution_count": 3,
      "outputs": [
        {
          "output_type": "stream",
          "name": "stdout",
          "text": [
            "Doğum yılınızı giriniz: 1990\n",
            "Yaşınız: 35\n"
          ]
        }
      ]
    },
    {
      "cell_type": "code",
      "source": [
        "def yas_hesapla(dogum_yili):\n",
        "    bugun = 2025\n",
        "    return bugun - dogum_yili\n",
        "\n",
        "def emeklilik_kontrol(isim, dogum_yili):\n",
        "    yas = yas_hesapla(dogum_yili)\n",
        "\n",
        "    if yas >= 65:\n",
        "        print(\"Emekli oldunuz.\")\n",
        "    else:\n",
        "        kalan = 65 - yas\n",
        "        print(\"{} emekliliğine {} yıl kaldı.\".format(isim, kalan))\n",
        "\n",
        "isim = input(\"İsminizi giriniz: \")\n",
        "dogum_yili = int(input(\"Doğum yılınızı giriniz: \"))\n",
        "\n",
        "emeklilik_kontrol(isim, dogum_yili)\n"
      ],
      "metadata": {
        "colab": {
          "base_uri": "https://localhost:8080/"
        },
        "id": "Ja6qSEjsxPgY",
        "outputId": "717c89be-14af-49c9-b427-e50e4ce5a465"
      },
      "execution_count": 4,
      "outputs": [
        {
          "output_type": "stream",
          "name": "stdout",
          "text": [
            "İsminizi giriniz: ilknur\n",
            "Doğum yılınızı giriniz: 1990\n",
            "ilknur emekliliğine 30 yıl kaldı.\n"
          ]
        }
      ]
    }
  ]
}