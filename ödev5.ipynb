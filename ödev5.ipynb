{
  "nbformat": 4,
  "nbformat_minor": 0,
  "metadata": {
    "colab": {
      "provenance": [],
      "authorship_tag": "ABX9TyMxVWjf0965uLHWZF1u18Ax",
      "include_colab_link": true
    },
    "kernelspec": {
      "name": "python3",
      "display_name": "Python 3"
    },
    "language_info": {
      "name": "python"
    }
  },
  "cells": [
    {
      "cell_type": "markdown",
      "metadata": {
        "id": "view-in-github",
        "colab_type": "text"
      },
      "source": [
        "<a href=\"https://colab.research.google.com/github/Birilknur/gelecek-dev/blob/main/%C3%B6dev5.ipynb\" target=\"_parent\"><img src=\"https://colab.research.google.com/assets/colab-badge.svg\" alt=\"Open In Colab\"/></a>"
      ]
    },
    {
      "cell_type": "code",
      "execution_count": 1,
      "metadata": {
        "colab": {
          "base_uri": "https://localhost:8080/"
        },
        "id": "Y9xwW7eXyb4i",
        "outputId": "7d384c08-8250-44ff-9e20-ed703e53dea0"
      },
      "outputs": [
        {
          "output_type": "stream",
          "name": "stdout",
          "text": [
            "3\n",
            "Hi-Kod\n",
            "4.7\n",
            "[9, '3', 8.4, 'Hi-Kod']\n",
            "[8.4, 'Hi-Kod', 'False', 4.7]\n"
          ]
        }
      ],
      "source": [
        "liste = [\"Python\", True, 9, \"3\", 8.4, \"Hi-Kod\", \"False\", 4.7]\n",
        "\n",
        "print(liste[3])\n",
        "print(liste[5])\n",
        "print(liste[7])\n",
        "print(liste[2:6])\n",
        "print(liste[4:8])\n"
      ]
    },
    {
      "cell_type": "code",
      "source": [
        "liste = [\"Python\", True, 9, \"3\", 8.4, \"Hi-Kod\", \"False\", 4.7]\n",
        "\n",
        "yeni_liste = []\n",
        "\n",
        "for eleman in liste:\n",
        "    if type(eleman) == str:\n",
        "        yeni_liste.append(eleman)\n",
        "\n",
        "print(yeni_liste)\n"
      ],
      "metadata": {
        "colab": {
          "base_uri": "https://localhost:8080/"
        },
        "id": "GJNEVLnIzD0v",
        "outputId": "eb51a2f6-47ac-4a7b-a935-5df0bb13ef4f"
      },
      "execution_count": 2,
      "outputs": [
        {
          "output_type": "stream",
          "name": "stdout",
          "text": [
            "['Python', '3', 'Hi-Kod', 'False']\n"
          ]
        }
      ]
    },
    {
      "cell_type": "code",
      "source": [
        "meyveler = [\"Elma\", \"Armut\", \"Muz\", \"Çilek\"]\n",
        "\n",
        "for index, meyve in enumerate(meyveler):\n",
        "    print(\"{}. indexte bulunan meyve: {}\".format(index, meyve))\n"
      ],
      "metadata": {
        "colab": {
          "base_uri": "https://localhost:8080/"
        },
        "id": "VJW-0vA4zVd3",
        "outputId": "cc5bce2f-0591-49fc-9ca6-64f4c6b9ced6"
      },
      "execution_count": 3,
      "outputs": [
        {
          "output_type": "stream",
          "name": "stdout",
          "text": [
            "0. indexte bulunan meyve: Elma\n",
            "1. indexte bulunan meyve: Armut\n",
            "2. indexte bulunan meyve: Muz\n",
            "3. indexte bulunan meyve: Çilek\n"
          ]
        }
      ]
    },
    {
      "cell_type": "code",
      "source": [
        "ogrenciler = {\n",
        "    \"Ali\": {\"Matematik\": 85, \"Fizik\": 90, \"Kimya\": 78},\n",
        "    \"Ayşe\": {\"Matematik\": 92, \"Fizik\": 88, \"Kimya\": 95},\n",
        "    \"Mehmet\": {\"Matematik\": 75, \"Fizik\": 80, \"Kimya\": 70}\n",
        "}\n",
        "\n",
        "isim = input(\"Öğrenci ismini giriniz: \")\n",
        "ders = input(\"Ders ismini giriniz (Matematik, Fizik, Kimya): \")\n",
        "\n",
        "if isim in ogrenciler:\n",
        "    if ders in ogrenciler[isim]:\n",
        "        print(\"{} öğrencisinin {} notu: {}\".format(isim, ders, ogrenciler[isim][ders]))\n",
        "    else:\n",
        "        print(\"Bu ders bulunamadı!\")\n",
        "else:\n",
        "    print(\"Öğrenci bulunamadı!\")\n",
        "\n",
        "ogrenciler[\"Zeynep\"] = {\"Matematik\": 88, \"Fizik\": 92, \"Kimya\": 85}\n",
        "ogrenciler[\"Ali\"][\"Matematik\"] = 90\n",
        "\n",
        "print(\"\\nGüncel öğrenci notları:\")\n",
        "print(ogrenciler)\n"
      ],
      "metadata": {
        "colab": {
          "base_uri": "https://localhost:8080/"
        },
        "id": "_oTg6MvgzmpR",
        "outputId": "7dd85e03-c2e6-4bc0-e581-610fd3e8c3a9"
      },
      "execution_count": 4,
      "outputs": [
        {
          "output_type": "stream",
          "name": "stdout",
          "text": [
            "Öğrenci ismini giriniz: veli\n",
            "Ders ismini giriniz (Matematik, Fizik, Kimya): kimya\n",
            "Öğrenci bulunamadı!\n",
            "\n",
            "Güncel öğrenci notları:\n",
            "{'Ali': {'Matematik': 90, 'Fizik': 90, 'Kimya': 78}, 'Ayşe': {'Matematik': 92, 'Fizik': 88, 'Kimya': 95}, 'Mehmet': {'Matematik': 75, 'Fizik': 80, 'Kimya': 70}, 'Zeynep': {'Matematik': 88, 'Fizik': 92, 'Kimya': 85}}\n"
          ]
        }
      ]
    }
  ]
}